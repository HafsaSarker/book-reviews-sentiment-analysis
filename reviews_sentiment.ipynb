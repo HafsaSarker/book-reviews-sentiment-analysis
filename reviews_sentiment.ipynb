{
  "nbformat": 4,
  "nbformat_minor": 0,
  "metadata": {
    "colab": {
      "provenance": []
    },
    "kernelspec": {
      "name": "python3",
      "display_name": "Python 3"
    },
    "language_info": {
      "name": "python"
    }
  },
  "cells": [
    {
      "cell_type": "markdown",
      "source": [
        "# Sentiment analysis of book reviews"
      ],
      "metadata": {
        "id": "6CB9ahDu1P-r"
      }
    },
    {
      "cell_type": "markdown",
      "source": [
        "### Import Packages"
      ],
      "metadata": {
        "id": "mLPhYQtj1gI4"
      }
    },
    {
      "cell_type": "code",
      "execution_count": 1,
      "metadata": {
        "id": "fabPZ9DU1AMc"
      },
      "outputs": [],
      "source": [
        "import pandas as pd\n",
        "import numpy as np\n",
        "import os\n",
        "import matplotlib.pyplot as plt\n",
        "import seaborn as sns\n",
        "\n",
        "from sklearn.model_selection import train_test_split\n",
        "from sklearn.linear_model import LogisticRegression\n",
        "from sklearn.metrics import roc_auc_score"
      ]
    },
    {
      "cell_type": "markdown",
      "source": [
        "## Load a 'ready-to-fit' Data Set"
      ],
      "metadata": {
        "id": "FEcEplyV1vKc"
      }
    },
    {
      "cell_type": "code",
      "source": [
        "filename = os.path.join(os.getcwd(), \"bookReviews.csv\")\n",
        "df = pd.read_csv(filename, header=0)"
      ],
      "metadata": {
        "id": "1KMTeuoj1mL0"
      },
      "execution_count": 2,
      "outputs": []
    },
    {
      "cell_type": "code",
      "source": [
        "df.head()"
      ],
      "metadata": {
        "colab": {
          "base_uri": "https://localhost:8080/",
          "height": 206
        },
        "id": "dexH7INS1t7Z",
        "outputId": "768a5301-1255-4631-f2b6-3f83dbab9a8e"
      },
      "execution_count": 3,
      "outputs": [
        {
          "output_type": "execute_result",
          "data": {
            "text/plain": [
              "                                              Review  Positive Review\n",
              "0  This was perhaps the best of Johannes Steinhof...             True\n",
              "1  This very fascinating book is a story written ...             True\n",
              "2  The four tales in this collection are beautifu...             True\n",
              "3  The book contained more profanity than I expec...            False\n",
              "4  We have now entered a second time of deep conc...             True"
            ],
            "text/html": [
              "\n",
              "  <div id=\"df-946dfb44-8aab-430f-bd2d-919e2cca9e81\" class=\"colab-df-container\">\n",
              "    <div>\n",
              "<style scoped>\n",
              "    .dataframe tbody tr th:only-of-type {\n",
              "        vertical-align: middle;\n",
              "    }\n",
              "\n",
              "    .dataframe tbody tr th {\n",
              "        vertical-align: top;\n",
              "    }\n",
              "\n",
              "    .dataframe thead th {\n",
              "        text-align: right;\n",
              "    }\n",
              "</style>\n",
              "<table border=\"1\" class=\"dataframe\">\n",
              "  <thead>\n",
              "    <tr style=\"text-align: right;\">\n",
              "      <th></th>\n",
              "      <th>Review</th>\n",
              "      <th>Positive Review</th>\n",
              "    </tr>\n",
              "  </thead>\n",
              "  <tbody>\n",
              "    <tr>\n",
              "      <th>0</th>\n",
              "      <td>This was perhaps the best of Johannes Steinhof...</td>\n",
              "      <td>True</td>\n",
              "    </tr>\n",
              "    <tr>\n",
              "      <th>1</th>\n",
              "      <td>This very fascinating book is a story written ...</td>\n",
              "      <td>True</td>\n",
              "    </tr>\n",
              "    <tr>\n",
              "      <th>2</th>\n",
              "      <td>The four tales in this collection are beautifu...</td>\n",
              "      <td>True</td>\n",
              "    </tr>\n",
              "    <tr>\n",
              "      <th>3</th>\n",
              "      <td>The book contained more profanity than I expec...</td>\n",
              "      <td>False</td>\n",
              "    </tr>\n",
              "    <tr>\n",
              "      <th>4</th>\n",
              "      <td>We have now entered a second time of deep conc...</td>\n",
              "      <td>True</td>\n",
              "    </tr>\n",
              "  </tbody>\n",
              "</table>\n",
              "</div>\n",
              "    <div class=\"colab-df-buttons\">\n",
              "\n",
              "  <div class=\"colab-df-container\">\n",
              "    <button class=\"colab-df-convert\" onclick=\"convertToInteractive('df-946dfb44-8aab-430f-bd2d-919e2cca9e81')\"\n",
              "            title=\"Convert this dataframe to an interactive table.\"\n",
              "            style=\"display:none;\">\n",
              "\n",
              "  <svg xmlns=\"http://www.w3.org/2000/svg\" height=\"24px\" viewBox=\"0 -960 960 960\">\n",
              "    <path d=\"M120-120v-720h720v720H120Zm60-500h600v-160H180v160Zm220 220h160v-160H400v160Zm0 220h160v-160H400v160ZM180-400h160v-160H180v160Zm440 0h160v-160H620v160ZM180-180h160v-160H180v160Zm440 0h160v-160H620v160Z\"/>\n",
              "  </svg>\n",
              "    </button>\n",
              "\n",
              "  <style>\n",
              "    .colab-df-container {\n",
              "      display:flex;\n",
              "      gap: 12px;\n",
              "    }\n",
              "\n",
              "    .colab-df-convert {\n",
              "      background-color: #E8F0FE;\n",
              "      border: none;\n",
              "      border-radius: 50%;\n",
              "      cursor: pointer;\n",
              "      display: none;\n",
              "      fill: #1967D2;\n",
              "      height: 32px;\n",
              "      padding: 0 0 0 0;\n",
              "      width: 32px;\n",
              "    }\n",
              "\n",
              "    .colab-df-convert:hover {\n",
              "      background-color: #E2EBFA;\n",
              "      box-shadow: 0px 1px 2px rgba(60, 64, 67, 0.3), 0px 1px 3px 1px rgba(60, 64, 67, 0.15);\n",
              "      fill: #174EA6;\n",
              "    }\n",
              "\n",
              "    .colab-df-buttons div {\n",
              "      margin-bottom: 4px;\n",
              "    }\n",
              "\n",
              "    [theme=dark] .colab-df-convert {\n",
              "      background-color: #3B4455;\n",
              "      fill: #D2E3FC;\n",
              "    }\n",
              "\n",
              "    [theme=dark] .colab-df-convert:hover {\n",
              "      background-color: #434B5C;\n",
              "      box-shadow: 0px 1px 3px 1px rgba(0, 0, 0, 0.15);\n",
              "      filter: drop-shadow(0px 1px 2px rgba(0, 0, 0, 0.3));\n",
              "      fill: #FFFFFF;\n",
              "    }\n",
              "  </style>\n",
              "\n",
              "    <script>\n",
              "      const buttonEl =\n",
              "        document.querySelector('#df-946dfb44-8aab-430f-bd2d-919e2cca9e81 button.colab-df-convert');\n",
              "      buttonEl.style.display =\n",
              "        google.colab.kernel.accessAllowed ? 'block' : 'none';\n",
              "\n",
              "      async function convertToInteractive(key) {\n",
              "        const element = document.querySelector('#df-946dfb44-8aab-430f-bd2d-919e2cca9e81');\n",
              "        const dataTable =\n",
              "          await google.colab.kernel.invokeFunction('convertToInteractive',\n",
              "                                                    [key], {});\n",
              "        if (!dataTable) return;\n",
              "\n",
              "        const docLinkHtml = 'Like what you see? Visit the ' +\n",
              "          '<a target=\"_blank\" href=https://colab.research.google.com/notebooks/data_table.ipynb>data table notebook</a>'\n",
              "          + ' to learn more about interactive tables.';\n",
              "        element.innerHTML = '';\n",
              "        dataTable['output_type'] = 'display_data';\n",
              "        await google.colab.output.renderOutput(dataTable, element);\n",
              "        const docLink = document.createElement('div');\n",
              "        docLink.innerHTML = docLinkHtml;\n",
              "        element.appendChild(docLink);\n",
              "      }\n",
              "    </script>\n",
              "  </div>\n",
              "\n",
              "\n",
              "<div id=\"df-3537ae25-1f47-46ae-8a58-1d588df388a5\">\n",
              "  <button class=\"colab-df-quickchart\" onclick=\"quickchart('df-3537ae25-1f47-46ae-8a58-1d588df388a5')\"\n",
              "            title=\"Suggest charts\"\n",
              "            style=\"display:none;\">\n",
              "\n",
              "<svg xmlns=\"http://www.w3.org/2000/svg\" height=\"24px\"viewBox=\"0 0 24 24\"\n",
              "     width=\"24px\">\n",
              "    <g>\n",
              "        <path d=\"M19 3H5c-1.1 0-2 .9-2 2v14c0 1.1.9 2 2 2h14c1.1 0 2-.9 2-2V5c0-1.1-.9-2-2-2zM9 17H7v-7h2v7zm4 0h-2V7h2v10zm4 0h-2v-4h2v4z\"/>\n",
              "    </g>\n",
              "</svg>\n",
              "  </button>\n",
              "\n",
              "<style>\n",
              "  .colab-df-quickchart {\n",
              "      --bg-color: #E8F0FE;\n",
              "      --fill-color: #1967D2;\n",
              "      --hover-bg-color: #E2EBFA;\n",
              "      --hover-fill-color: #174EA6;\n",
              "      --disabled-fill-color: #AAA;\n",
              "      --disabled-bg-color: #DDD;\n",
              "  }\n",
              "\n",
              "  [theme=dark] .colab-df-quickchart {\n",
              "      --bg-color: #3B4455;\n",
              "      --fill-color: #D2E3FC;\n",
              "      --hover-bg-color: #434B5C;\n",
              "      --hover-fill-color: #FFFFFF;\n",
              "      --disabled-bg-color: #3B4455;\n",
              "      --disabled-fill-color: #666;\n",
              "  }\n",
              "\n",
              "  .colab-df-quickchart {\n",
              "    background-color: var(--bg-color);\n",
              "    border: none;\n",
              "    border-radius: 50%;\n",
              "    cursor: pointer;\n",
              "    display: none;\n",
              "    fill: var(--fill-color);\n",
              "    height: 32px;\n",
              "    padding: 0;\n",
              "    width: 32px;\n",
              "  }\n",
              "\n",
              "  .colab-df-quickchart:hover {\n",
              "    background-color: var(--hover-bg-color);\n",
              "    box-shadow: 0 1px 2px rgba(60, 64, 67, 0.3), 0 1px 3px 1px rgba(60, 64, 67, 0.15);\n",
              "    fill: var(--button-hover-fill-color);\n",
              "  }\n",
              "\n",
              "  .colab-df-quickchart-complete:disabled,\n",
              "  .colab-df-quickchart-complete:disabled:hover {\n",
              "    background-color: var(--disabled-bg-color);\n",
              "    fill: var(--disabled-fill-color);\n",
              "    box-shadow: none;\n",
              "  }\n",
              "\n",
              "  .colab-df-spinner {\n",
              "    border: 2px solid var(--fill-color);\n",
              "    border-color: transparent;\n",
              "    border-bottom-color: var(--fill-color);\n",
              "    animation:\n",
              "      spin 1s steps(1) infinite;\n",
              "  }\n",
              "\n",
              "  @keyframes spin {\n",
              "    0% {\n",
              "      border-color: transparent;\n",
              "      border-bottom-color: var(--fill-color);\n",
              "      border-left-color: var(--fill-color);\n",
              "    }\n",
              "    20% {\n",
              "      border-color: transparent;\n",
              "      border-left-color: var(--fill-color);\n",
              "      border-top-color: var(--fill-color);\n",
              "    }\n",
              "    30% {\n",
              "      border-color: transparent;\n",
              "      border-left-color: var(--fill-color);\n",
              "      border-top-color: var(--fill-color);\n",
              "      border-right-color: var(--fill-color);\n",
              "    }\n",
              "    40% {\n",
              "      border-color: transparent;\n",
              "      border-right-color: var(--fill-color);\n",
              "      border-top-color: var(--fill-color);\n",
              "    }\n",
              "    60% {\n",
              "      border-color: transparent;\n",
              "      border-right-color: var(--fill-color);\n",
              "    }\n",
              "    80% {\n",
              "      border-color: transparent;\n",
              "      border-right-color: var(--fill-color);\n",
              "      border-bottom-color: var(--fill-color);\n",
              "    }\n",
              "    90% {\n",
              "      border-color: transparent;\n",
              "      border-bottom-color: var(--fill-color);\n",
              "    }\n",
              "  }\n",
              "</style>\n",
              "\n",
              "  <script>\n",
              "    async function quickchart(key) {\n",
              "      const quickchartButtonEl =\n",
              "        document.querySelector('#' + key + ' button');\n",
              "      quickchartButtonEl.disabled = true;  // To prevent multiple clicks.\n",
              "      quickchartButtonEl.classList.add('colab-df-spinner');\n",
              "      try {\n",
              "        const charts = await google.colab.kernel.invokeFunction(\n",
              "            'suggestCharts', [key], {});\n",
              "      } catch (error) {\n",
              "        console.error('Error during call to suggestCharts:', error);\n",
              "      }\n",
              "      quickchartButtonEl.classList.remove('colab-df-spinner');\n",
              "      quickchartButtonEl.classList.add('colab-df-quickchart-complete');\n",
              "    }\n",
              "    (() => {\n",
              "      let quickchartButtonEl =\n",
              "        document.querySelector('#df-3537ae25-1f47-46ae-8a58-1d588df388a5 button');\n",
              "      quickchartButtonEl.style.display =\n",
              "        google.colab.kernel.accessAllowed ? 'block' : 'none';\n",
              "    })();\n",
              "  </script>\n",
              "</div>\n",
              "    </div>\n",
              "  </div>\n"
            ]
          },
          "metadata": {},
          "execution_count": 3
        }
      ]
    },
    {
      "cell_type": "code",
      "source": [
        "df.shape[:1]"
      ],
      "metadata": {
        "colab": {
          "base_uri": "https://localhost:8080/"
        },
        "id": "eYgeVkNO3xJN",
        "outputId": "3d8e3f5d-b557-455f-d302-690931cc576a"
      },
      "execution_count": 4,
      "outputs": [
        {
          "output_type": "execute_result",
          "data": {
            "text/plain": [
              "(1973,)"
            ]
          },
          "metadata": {},
          "execution_count": 4
        }
      ]
    },
    {
      "cell_type": "markdown",
      "source": [
        "### Positive reviews"
      ],
      "metadata": {
        "id": "ELjmktPx5dXL"
      }
    },
    {
      "cell_type": "code",
      "source": [
        "pos_reviews = df[df['Positive Review'] == True]['Review']\n",
        "\n",
        "print('Positive Review:')\n",
        "print(pos_reviews.iloc[0])\n",
        "\n",
        "print('{0} Positive reviewes in total.'.format(pos_reviews.count()))\n"
      ],
      "metadata": {
        "colab": {
          "base_uri": "https://localhost:8080/"
        },
        "id": "DlbX_TIb5c5B",
        "outputId": "91c92b85-e38c-4ec3-ef35-72d443bcba2f"
      },
      "execution_count": 5,
      "outputs": [
        {
          "output_type": "stream",
          "name": "stdout",
          "text": [
            "Positive Review:\n",
            "This was perhaps the best of Johannes Steinhoff's books, since it does not  deal with his own stellar yet tragic WW II and post war career. The  insights of the average person living in Germany are of great importance to  both social and military historians alike. Steinhoff offered this  collective testament as a warning to all of us regarding war and the rise  of a dictator. As Johannes said in an interview, &quot;It is always the  civilians who suffer the most, yet are remembered the least.&quot\n",
            "\n",
            "980 Positive reviewes in total.\n"
          ]
        }
      ]
    },
    {
      "cell_type": "markdown",
      "source": [
        "### Negative reviews"
      ],
      "metadata": {
        "id": "2jQTgPXN6Ejv"
      }
    },
    {
      "cell_type": "code",
      "source": [
        "neg_reviews = df[df['Positive Review'] == False]['Review']\n",
        "\n",
        "print('Negative Review:')\n",
        "print(neg_reviews.iloc[0])\n",
        "\n",
        "print('{0} Negative reviewes in total.'.format(neg_reviews.count()))"
      ],
      "metadata": {
        "colab": {
          "base_uri": "https://localhost:8080/"
        },
        "id": "jbNUNGEz6ETG",
        "outputId": "52e7d625-856b-4b08-f1ee-909513ec40e2"
      },
      "execution_count": 6,
      "outputs": [
        {
          "output_type": "stream",
          "name": "stdout",
          "text": [
            "Negative Review:\n",
            "The book contained more profanity than I expected to read in a book by Rita Rudner.  I had expected more humor from a comedienne.  Too bad, because I really like her humor\n",
            "\n",
            "993 Negative reviewes in total.\n"
          ]
        }
      ]
    },
    {
      "cell_type": "markdown",
      "source": [
        "## Create Training and Test Data Sets"
      ],
      "metadata": {
        "id": "iXSUicAz19xw"
      }
    },
    {
      "cell_type": "markdown",
      "source": [
        "### Create Labeled Examples\n",
        "\n",
        "* Get the `Positive_Review` column from DataFrame `df` and assign it to the variable `y`. This will be the label.\n",
        "* Get the column `Review` from DataFrame `df` and assign it to the variable `X`. This will be the feature."
      ],
      "metadata": {
        "id": "UlePW9V64x2L"
      }
    },
    {
      "cell_type": "code",
      "source": [
        "y = df['Positive Review']\n",
        "X = df['Review']\n",
        "\n",
        "X.shape"
      ],
      "metadata": {
        "colab": {
          "base_uri": "https://localhost:8080/"
        },
        "id": "IdwaEvNT14dP",
        "outputId": "35e29307-b878-4918-8e6d-0402fa8ee1ab"
      },
      "execution_count": 7,
      "outputs": [
        {
          "output_type": "execute_result",
          "data": {
            "text/plain": [
              "(1973,)"
            ]
          },
          "metadata": {},
          "execution_count": 7
        }
      ]
    },
    {
      "cell_type": "code",
      "source": [
        "X.head()"
      ],
      "metadata": {
        "colab": {
          "base_uri": "https://localhost:8080/"
        },
        "id": "QBraqTgC5OdV",
        "outputId": "eaf2c4d2-21d7-459a-b293-6a940c01cd8a"
      },
      "execution_count": 8,
      "outputs": [
        {
          "output_type": "execute_result",
          "data": {
            "text/plain": [
              "0    This was perhaps the best of Johannes Steinhof...\n",
              "1    This very fascinating book is a story written ...\n",
              "2    The four tales in this collection are beautifu...\n",
              "3    The book contained more profanity than I expec...\n",
              "4    We have now entered a second time of deep conc...\n",
              "Name: Review, dtype: object"
            ]
          },
          "metadata": {},
          "execution_count": 8
        }
      ]
    },
    {
      "cell_type": "markdown",
      "source": [
        "## Split Labeled Examples into Training and Test Sets"
      ],
      "metadata": {
        "id": "RssFBsX28JFS"
      }
    },
    {
      "cell_type": "code",
      "source": [
        "X_train, X_test, y_train, y_test = train_test_split(X, y, train_size=.75, random_state=1234)\n",
        "\n",
        "X_train.head()"
      ],
      "metadata": {
        "colab": {
          "base_uri": "https://localhost:8080/"
        },
        "id": "nfqNIfmy5T-i",
        "outputId": "3a11cbca-8df8-4a1b-85dc-fadc2a5c1605"
      },
      "execution_count": 9,
      "outputs": [
        {
          "output_type": "execute_result",
          "data": {
            "text/plain": [
              "500     There is a reason this book has sold over 180,...\n",
              "1047    There is one thing that every cookbook author ...\n",
              "1667    Being an engineer in the aerospace industry I ...\n",
              "1646    I have no idea how this book has received the ...\n",
              "284     It is almost like dream comes true when I saw ...\n",
              "Name: Review, dtype: object"
            ]
          },
          "metadata": {},
          "execution_count": 9
        }
      ]
    },
    {
      "cell_type": "markdown",
      "source": [
        "## Implement TF-IDF Vectorizer to Transform Text"
      ],
      "metadata": {
        "id": "tazbB19Y8fV2"
      }
    },
    {
      "cell_type": "code",
      "source": [
        "from sklearn.feature_extraction.text import TfidfVectorizer"
      ],
      "metadata": {
        "id": "kqDr7svc8c9t"
      },
      "execution_count": 10,
      "outputs": []
    },
    {
      "cell_type": "code",
      "source": [
        "# 1. Create a TfidfVectorizer oject\n",
        "tfidf_vectorizer = TfidfVectorizer()\n",
        "\n",
        "# 2. Fit the vectorizer to X_train\n",
        "tfidf_vectorizer.fit(X_train)\n",
        "\n",
        "# 3. Print the first 50 items in the vocabulary\n",
        "print(\"Vocabulary size {0}: \".format(len(tfidf_vectorizer.vocabulary_)))\n",
        "print(str(list(tfidf_vectorizer.vocabulary_.items())[0:50])+'\\n')\n",
        "\n",
        "# 4. Transform both the training and test data using the fitted vectorizer and its 'transform' attribute\n",
        "X_train_tfidf = tfidf_vectorizer.transform(X_train)\n",
        "X_test_tfidf = tfidf_vectorizer.transform(X_test)\n",
        "\n",
        "# 5. Print the training matrix\n",
        "print(X_train_tfidf.todense())"
      ],
      "metadata": {
        "colab": {
          "base_uri": "https://localhost:8080/"
        },
        "id": "LSBjjRVH8otL",
        "outputId": "f327025f-0919-4089-c4a8-6ba553f1befa"
      },
      "execution_count": 11,
      "outputs": [
        {
          "output_type": "stream",
          "name": "stdout",
          "text": [
            "Vocabulary size 18558: \n",
            "[('there', 16673), ('is', 9043), ('reason', 13533), ('this', 16714), ('book', 2189), ('has', 7803), ('sold', 15423), ('over', 11793), ('180', 73), ('000', 1), ('copies', 3867), ('it', 9076), ('gets', 7240), ('right', 14207), ('to', 16835), ('the', 16627), ('point', 12568), ('accompanies', 444), ('each', 5372), ('strategy', 15943), ('with', 18277), ('visual', 17844), ('aid', 750), ('so', 15386), ('you', 18497), ('can', 2604), ('get', 7239), ('mental', 10534), ('picture', 12402), ('in', 8491), ('your', 18501), ('head', 7844), ('further', 7051), ('its', 9088), ('section', 14743), ('on', 11601), ('analyzing', 974), ('stocks', 15886), ('and', 984), ('commentary', 3384), ('state', 15782), ('of', 11543), ('financial', 6568), ('statements', 15786), ('market', 10286), ('are', 1220), ('money', 10863), ('if', 8336), ('just', 9282), ('starting', 15774)]\n",
            "\n",
            "[[0.         0.16185315 0.         ... 0.         0.         0.        ]\n",
            " [0.         0.         0.         ... 0.         0.         0.        ]\n",
            " [0.         0.01923341 0.         ... 0.         0.         0.        ]\n",
            " ...\n",
            " [0.         0.         0.         ... 0.         0.         0.        ]\n",
            " [0.         0.         0.         ... 0.         0.         0.        ]\n",
            " [0.         0.         0.         ... 0.         0.         0.        ]]\n"
          ]
        }
      ]
    },
    {
      "cell_type": "markdown",
      "source": [
        "## Fit a Logistic Regression Model to the Transformed Training Data and Evaluate the Model"
      ],
      "metadata": {
        "id": "fjHKMHMYCOyo"
      }
    },
    {
      "cell_type": "code",
      "source": [
        "# Create a LogisticRegression model object, and fit a Logistic Regression model to the transformed training data\n",
        "model = LogisticRegression(max_iter=200)\n",
        "model.fit(X_train_tfidf, y_train)\n",
        "\n",
        "# Make predictions on the transformed test data using the predict_proba() method and\n",
        "# save the values of the second column (probability that its 'True')\n",
        "probability_predictions = model.predict_proba(X_test_tfidf)[:,1]\n",
        "\n",
        "print('Probability that the first 5 reviews of the test data are positive: ', probability_predictions[:5])"
      ],
      "metadata": {
        "colab": {
          "base_uri": "https://localhost:8080/"
        },
        "id": "XYzxE-aK8_b5",
        "outputId": "3fe8a5ef-b590-4f8b-b48b-5678dcc0b84b"
      },
      "execution_count": 19,
      "outputs": [
        {
          "output_type": "stream",
          "name": "stdout",
          "text": [
            "Probability that the first 5 reviews of the test data are positive:  [0.60395215 0.59635347 0.47190056 0.46265613 0.65376739]\n"
          ]
        }
      ]
    },
    {
      "cell_type": "code",
      "source": [
        "# Make predictions on the transformed test data using the predict() method\n",
        "class_label_predictions = model.predict(X_test_tfidf)\n",
        "\n",
        "# Compute the Area Under the ROC curve (AUC) for the test data\n",
        "auc = roc_auc_score(y_test, probability_predictions)\n",
        "print('AUC on the test data: {:.4f}'.format(auc))\n",
        "\n",
        "# 5. Print out the size of the resulting feature space using the 'vocabulary_' attribute of the vectorizer\n",
        "len_feature_space = len(tfidf_vectorizer.vocabulary_)\n",
        "print('The size of the feature space: {0}'.format(len_feature_space))\n",
        "\n",
        "# 6. Get a glimpse of the features:\n",
        "first_five = list(tfidf_vectorizer.vocabulary_.items())[1:5]\n",
        "print('Glimpse of first 5 entries of the mapping of a word to its column/feature index \\n{}:'.format(first_five))\n"
      ],
      "metadata": {
        "colab": {
          "base_uri": "https://localhost:8080/"
        },
        "id": "R2GgvqcYCjSA",
        "outputId": "86ee562b-99cc-4c09-dc63-dcec115cf79e"
      },
      "execution_count": 34,
      "outputs": [
        {
          "output_type": "stream",
          "name": "stdout",
          "text": [
            "AUC on the test data: 0.9146\n",
            "The size of the feature space: 18558\n",
            "Glimpse of first 5 entries of the mapping of a word to its column/feature index \n",
            "[('is', 9043), ('reason', 13533), ('this', 16714), ('book', 2189)]:\n"
          ]
        }
      ]
    },
    {
      "cell_type": "markdown",
      "source": [
        "## Check two book reviews and see if the model properly predicted whether the reviews are good or bad reviews."
      ],
      "metadata": {
        "id": "iRQqKYZdD_j-"
      }
    },
    {
      "cell_type": "code",
      "source": [
        "print('Review #1:\\n')\n",
        "print(X_test.to_numpy()[124])\n",
        "\n",
        "print('\\nPrediction: Is this a good review? {}\\n'.format(class_label_predictions[124]))\n",
        "\n",
        "print('Actual: Is this a good review? {}\\n'.format(y_test.to_numpy()[124]))"
      ],
      "metadata": {
        "colab": {
          "base_uri": "https://localhost:8080/"
        },
        "id": "iEp3FkWlD_Hb",
        "outputId": "51f8fe40-1ae9-4ff6-facb-f37553a94b90"
      },
      "execution_count": 27,
      "outputs": [
        {
          "output_type": "stream",
          "name": "stdout",
          "text": [
            "Review #1:\n",
            "\n",
            "I've been a fan of Carol Dweck's scholarly work for years. Her work on self-esteem, self-concept, and the incremental vs. entity theories of intelligence provides some of the most powerfully useful tools I've encountered for educators and parents in their work with children, as well as in their own self-awareness and lives. I'm delighted to see this information written here in such a user-friendly conversational tone, rich with stories that illustrate the nuances and complexities of Dweck's research and ideas. I'm recommending this book to all of my graduate students (teachers and principals working with gifted learners), as well as to parents of high-ability children.\n",
            "\n",
            "Dona Matthews, Ph.D., Director of the Hunter College Center for Gifted Studies and Education, City University of New York\n",
            "\n",
            "\n",
            "Prediction: Is this a good review? True\n",
            "\n",
            "Actual: Is this a good review? True\n",
            "\n"
          ]
        }
      ]
    },
    {
      "cell_type": "code",
      "source": [
        "print('Review #2:\\n')\n",
        "print(X_test.to_numpy()[90])\n",
        "\n",
        "print('\\nPrediction: Is this a good review? {}\\n'.format(class_label_predictions[90]))\n",
        "\n",
        "print('Actual: Is this a good review? {}\\n'.format(y_test.to_numpy()[90]))"
      ],
      "metadata": {
        "colab": {
          "base_uri": "https://localhost:8080/"
        },
        "id": "MspRXnB1EtGj",
        "outputId": "8d53a483-417d-481c-cc47-31d769097db2"
      },
      "execution_count": 29,
      "outputs": [
        {
          "output_type": "stream",
          "name": "stdout",
          "text": [
            "Review #2:\n",
            "\n",
            "I bought this recording with high hopes.  What better complement to reading Shakespeare than hearing him, right?  Well, not with this recording.  The cast is made up of &quot;distinguished actors,&quot; the insert proclaims, but it's obvious that these actors haven't done Shakespeare since they were in junior high school.  Nor have they improved since then: none of the actors has any feel for the Shakespearean line.  The speaking is stiff and mechanical, and half the time it sounds like a Monty Python farce!  When there are no visual effects to distract us, low-quality acting really sticks out.  For audio recordings, you need the best voices.  Too bad Arkangel didn't realize this.  My advice?  Grind up these CDs and use them to fertilize your nasturtiums\n",
            "\n",
            "\n",
            "Prediction: Is this a good review? False\n",
            "\n",
            "Actual: Is this a good review? False\n",
            "\n"
          ]
        }
      ]
    }
  ]
}